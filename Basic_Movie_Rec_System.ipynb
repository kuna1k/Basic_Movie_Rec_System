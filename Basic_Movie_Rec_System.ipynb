{
 "cells": [
  {
   "cell_type": "code",
   "execution_count": 52,
   "id": "e07b17ef-99da-4db7-9096-50162388158a",
   "metadata": {},
   "outputs": [
    {
     "name": "stdin",
     "output_type": "stream",
     "text": [
      "Enter a movie:  Avengers\n"
     ]
    },
    {
     "name": "stdout",
     "output_type": "stream",
     "text": [
      "System Recommendations:\n",
      "\n",
      "1. Avengers: Age of Ultron\n",
      "2. Captain America: The Winter Soldier\n",
      "3. Captain America: Civil War\n",
      "4. Iron Man 2\n",
      "5. Thor: The Dark World\n",
      "6. X-Men\n",
      "7. The Incredible Hulk\n",
      "8. X-Men: Apocalypse\n",
      "9. Ant-Man\n",
      "10. Thor\n",
      "11. X2\n",
      "12. X-Men: The Last Stand\n",
      "13. Deadpool\n",
      "14. X-Men: Days of Future Past\n",
      "15. Captain America: The First Avenger\n",
      "16. The Amazing Spider-Man 2\n",
      "17. The Image Revolution\n",
      "18. Iron Man\n",
      "19. Iron Man 3\n",
      "20. Man of Steel\n",
      "21. The Spirit\n",
      "22. Superman II\n",
      "23. X-Men: First Class\n",
      "24. Guardians of the Galaxy\n",
      "25. Batman v Superman: Dawn of Justice\n",
      "26. Serenity\n",
      "27. Spawn\n",
      "28. Teenage Mutant Ninja Turtles: Out of the Shadows\n",
      "29. The Helix... Loaded\n",
      "30. What's Your Number?\n"
     ]
    }
   ],
   "source": [
    "# Importing necessary libraries\n",
    "import pandas as pd\n",
    "from sklearn.feature_extraction.text import TfidfVectorizer\n",
    "from sklearn.metrics.pairwise import cosine_similarity\n",
    "import difflib\n",
    "\n",
    "# Loading data into a DataFrame\n",
    "df_movies = pd.read_csv('Movies1.csv')\n",
    "\n",
    "# Identifying relevant attributes for recommendation\n",
    "features_to_use = ['genres', 'keywords', 'tagline', 'cast', 'director']\n",
    "\n",
    "# Filling missing values in the DataFrame with empty strings\n",
    "for attribute in features_to_use:\n",
    "    df_movies[attribute] = df_movies[attribute].fillna('')\n",
    "\n",
    "# Merging all selected features into a single string per movie\n",
    "merged_features = df_movies.apply(lambda row: ' '.join(row[feature] for feature in features_to_use), axis=1)\n",
    "\n",
    "# Transforming text data into TF-IDF feature vectors\n",
    "tfidf = TfidfVectorizer()\n",
    "tfidf_matrix = tfidf.fit_transform(merged_features)\n",
    "\n",
    "# Calculating cosine similarity between movies\n",
    "cosine_sim = cosine_similarity(tfidf_matrix)\n",
    "\n",
    "# User inputs a movie name\n",
    "user_movie = input('Enter a movie: ')\n",
    "\n",
    "# Creating a list of all movie titles in the dataset\n",
    "movie_titles = df_movies['title'].tolist()\n",
    "\n",
    "# Searching for the closest match to the input movie name\n",
    "closest_matches = difflib.get_close_matches(user_movie, movie_titles)\n",
    "\n",
    "# Checking if a match is found\n",
    "if closest_matches:\n",
    "    best_match = closest_matches[0]\n",
    "\n",
    "    # Locating the index of the best match in the DataFrame\n",
    "    movie_index = df_movies[df_movies.title == best_match].index[0]\n",
    "\n",
    "    # Generating a list of movies similar to the input\n",
    "    similarity_scores = list(enumerate(cosine_sim[movie_index]))\n",
    "\n",
    "    # Sorting movies based on similarity scores in descending order\n",
    "    sorted_movies = sorted(similarity_scores, key=lambda x: x[1], reverse=True)\n",
    "\n",
    "    # Displaying the top 30 similar movie recommendations\n",
    "    print('System Recommendations:\\n')\n",
    "    for rank, sim_movie in enumerate(sorted_movies[1:31], start=1):\n",
    "        recommended_title = df_movies.iloc[sim_movie[0]]['title']\n",
    "        print(f\"{rank}. {recommended_title}\")\n",
    "else:\n",
    "    print(\"Please try again.\")"
   ]
  }
 ],
 "metadata": {
  "kernelspec": {
   "display_name": "Python 3 (ipykernel)",
   "language": "python",
   "name": "python3"
  },
  "language_info": {
   "codemirror_mode": {
    "name": "ipython",
    "version": 3
   },
   "file_extension": ".py",
   "mimetype": "text/x-python",
   "name": "python",
   "nbconvert_exporter": "python",
   "pygments_lexer": "ipython3",
   "version": "3.11.7"
  }
 },
 "nbformat": 4,
 "nbformat_minor": 5
}
